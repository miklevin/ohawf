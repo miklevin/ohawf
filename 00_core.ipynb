{
 "cells": [
  {
   "cell_type": "code",
   "execution_count": null,
   "metadata": {},
   "outputs": [],
   "source": [
    "# default_exp core"
   ]
  },
  {
   "cell_type": "markdown",
   "metadata": {},
   "source": [
    "# ohawf\n",
    "\n",
    "> "
   ]
  },
  {
   "cell_type": "code",
   "execution_count": null,
   "metadata": {},
   "outputs": [],
   "source": [
    "%load_ext lab_black\n",
    "%reload_ext lab_black"
   ]
  },
  {
   "cell_type": "code",
   "execution_count": null,
   "metadata": {},
   "outputs": [],
   "source": [
    "# hide\n",
    "from nbdev.showdoc import *"
   ]
  },
  {
   "cell_type": "code",
   "execution_count": null,
   "metadata": {},
   "outputs": [],
   "source": [
    "# export\n",
    "\"\"\"\n",
    "Google OAuth2 login module.\n",
    "\"\"\"\n",
    "\n",
    "import json\n",
    "import pickle\n",
    "from sys import exit\n",
    "from os import environ\n",
    "from pathlib import Path\n",
    "from urllib.error import HTTPError\n",
    "from urllib.request import urlopen\n",
    "import google.auth.transport.requests\n",
    "from googleapiclient.discovery import build\n",
    "from google.auth.exceptions import RefreshError\n",
    "from google_auth_oauthlib.flow import InstalledAppFlow\n",
    "\n",
    "\n",
    "class Credentials:\n",
    "    \"\"\"Login to Google services.\"\"\"\n",
    "\n",
    "    def __init__(self, scopes=False):\n",
    "        environ[\"OAUTHLIB_RELAX_TOKEN_SCOPE\"] = \"1\"\n",
    "        self.check_url = \"https://www.googleapis.com/oauth2/v1/tokeninfo?access_token=\"\n",
    "        self.credential_pickle_file = \"credentials.pkl\"\n",
    "        scope_source = None\n",
    "        if type(scopes) == list:\n",
    "            scope_source = \"Func args\"\n",
    "            self.scopes = scopes\n",
    "        elif Path(\"./scopes.csv\").is_file():\n",
    "            scope_source = \"scopes.csv\"\n",
    "            with open(\"./scopes.csv\") as file_handle:\n",
    "                self.scopes = file_handle.read().splitlines()\n",
    "        else:\n",
    "            scope_source = \"OhAwf source code\"\n",
    "            self.scopes = [\n",
    "                \"https://www.googleapis.com/auth/spreadsheets\",\n",
    "                \"https://www.googleapis.com/auth/gmail.modify\",\n",
    "                \"https://www.googleapis.com/auth/userinfo.email\",\n",
    "                \"https://www.googleapis.com/auth/youtube.readonly\",\n",
    "                \"https://www.googleapis.com/auth/analytics.readonly\",\n",
    "                \"https://www.googleapis.com/auth/webmasters.readonly\",\n",
    "                \"https://www.googleapis.com/auth/yt-analytics.readonly\",\n",
    "                \"https://www.googleapis.com/auth/photoslibrary.readonly\",\n",
    "            ]\n",
    "        self.credentials = None\n",
    "        self.scope_source = scope_source\n",
    "        credentials_file = \"./credentials-default.json\"\n",
    "        if Path(\"./credentials.json\").is_file():\n",
    "            credentials_file = \"./credentials.json\"\n",
    "        try:\n",
    "            with open(credentials_file, \"rb\") as handle:\n",
    "                self.credentials = json.load(handle)\n",
    "        except:\n",
    "            self.credentials = json.loads(\n",
    "                '{\"installed\":{\"client_id\":\"769904540573-knscs3mhvd56odnf7i8h3al13kiqulft.apps.googleusercontent.com\",\"project_id\":\"seonotebook-1470430760084\",\"auth_uri\":\"https://accounts.google.com/o/oauth2/auth\",\"token_uri\":\"https://oauth2.googleapis.com/token\",\"auth_provider_x509_cert_url\":\"https://www.googleapis.com/oauth2/v1/certs\",\"client_secret\":\"D2F1D--b_yKNLrJSPmrn2jik\",\"redirect_uris\":[\"urn:ietf:wg:oauth:2.0:oob\",\"http://localhost\"]}}'\n",
    "            )\n",
    "        # self.get()\n",
    "\n",
    "    def get(self):\n",
    "        try:\n",
    "            self.credentials = self.refresh_token()\n",
    "        except Exception as error:\n",
    "            print(error)\n",
    "            exit(1)\n",
    "        return self.credentials\n",
    "\n",
    "    def login(self):\n",
    "        \"\"\"Start web-based Google OAuth2 login prompt.\"\"\"\n",
    "        flow = InstalledAppFlow.from_client_config(self.credentials, self.scopes)\n",
    "        self.credentials = flow.run_console()\n",
    "        with open(self.credential_pickle_file, \"wb\") as handle:\n",
    "            pickle.dump(self.credentials, handle)\n",
    "        return self.credentials\n",
    "\n",
    "    def refresh_token(self):\n",
    "        \"\"\"Refresh token to make new logins generally not required.\"\"\"\n",
    "\n",
    "        print(f\"Using scopes from {self.scope_source}.\")\n",
    "        print(\"Logging in... \", end=\"\")\n",
    "        try:\n",
    "            with open(self.credential_pickle_file, \"rb\") as handle:\n",
    "                self.credentials = pickle.load(handle)\n",
    "        except FileNotFoundError:\n",
    "            print(\"Stored login credentials not found. Login required...\")\n",
    "            self.credentials = self.login()\n",
    "\n",
    "        request = google.auth.transport.requests.Request()\n",
    "        login_required, bad_scope = False, False\n",
    "        try:\n",
    "            self.credentials.refresh(request)\n",
    "        except RefreshError as error:\n",
    "            print(\"Refresh error!\")\n",
    "            print(error.args[0])\n",
    "            login_required = True\n",
    "            if \"scope\" in error.args[0]:\n",
    "                bad_scope = True\n",
    "        if bad_scope:\n",
    "            Path(self.credential_pickle_file).unlink()\n",
    "        if login_required:\n",
    "            self.credentials = self.login()\n",
    "\n",
    "        # Test if credentials are good\n",
    "        success = False\n",
    "        cred_url = self.check_url + self.credentials.token\n",
    "        try:\n",
    "            cred_response = urlopen(cred_url)\n",
    "            success = True\n",
    "        except Exception as error:\n",
    "            pass\n",
    "\n",
    "        if success:\n",
    "            service = build(\"oauth2\", \"v2\", credentials=self.credentials)\n",
    "            user_document = service.userinfo().get().execute()\n",
    "            full_email = user_document[\"email\"]\n",
    "            m0, m1 = full_email.split(\"@\")\n",
    "            masked = [x[1] if x[0] in [0, len(m0)] else \"*\" for x in enumerate(m0)]\n",
    "            display_email = f\"{''.join(masked)}@{m1}\"\n",
    "            print(f\"Successfully logged in as {display_email}\")\n",
    "\n",
    "        return self.credentials\n",
    "\n",
    "\n",
    "def get():\n",
    "    \"\"\"Authenticate\"\"\"\n",
    "    return Credentials().get()\n",
    "\n",
    "\n",
    "if __name__ == \"__main__\":\n",
    "    print(\"You may provide your own credentials.json and scopes.csv files.\")\n",
    "    print(\"To create a Google OAuth2 Credentials object:\")\n",
    "    print()\n",
    "    print(\"cred = ohawf.get()\")"
   ]
  },
  {
   "cell_type": "code",
   "execution_count": null,
   "metadata": {},
   "outputs": [],
   "source": [
    "display_email"
   ]
  },
  {
   "cell_type": "code",
   "execution_count": null,
   "metadata": {},
   "outputs": [],
   "source": [
    "cred = get()"
   ]
  },
  {
   "cell_type": "code",
   "execution_count": null,
   "metadata": {},
   "outputs": [],
   "source": [
    "cred"
   ]
  },
  {
   "cell_type": "code",
   "execution_count": null,
   "metadata": {},
   "outputs": [],
   "source": [
    "service = build(\"oauth2\", \"v2\", credentials=cred)\n",
    "user_document = service.userinfo().get().execute()\n",
    "print(user_document[\"email\"])"
   ]
  },
  {
   "cell_type": "code",
   "execution_count": null,
   "metadata": {},
   "outputs": [],
   "source": [
    "# Retrieve list of Search Console sites\n",
    "gsc_service = build('webmasters', 'v3', credentials=cred)\n",
    "gsc_sites = gsc_service.sites().list().execute()\n",
    "[print(x['siteUrl']) for x in gsc_sites['siteEntry']];"
   ]
  },
  {
   "cell_type": "code",
   "execution_count": null,
   "metadata": {},
   "outputs": [],
   "source": [
    "# Retreive list of Google Analytics accounts\n",
    "ga_service = build('analytics', 'v3', credentials=cred)\n",
    "ga_accounts = ga_service.management().accounts().list().execute()\n",
    "[print((x['id'], x['name'])) for x in ga_accounts['items']];"
   ]
  }
 ],
 "metadata": {
  "kernelspec": {
   "display_name": "Python 3 (ipykernel)",
   "language": "python",
   "name": "python3"
  }
 },
 "nbformat": 4,
 "nbformat_minor": 4
}
