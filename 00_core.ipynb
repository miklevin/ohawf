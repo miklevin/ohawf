{
 "cells": [
  {
   "cell_type": "code",
   "execution_count": null,
   "metadata": {},
   "outputs": [],
   "source": [
    "# default_exp core"
   ]
  },
  {
   "cell_type": "markdown",
   "metadata": {},
   "source": [
    "# ohawf\n",
    "\n",
    "> "
   ]
  },
  {
   "cell_type": "code",
   "execution_count": null,
   "metadata": {},
   "outputs": [],
   "source": [
    "# hide\n",
    "from nbdev.showdoc import *"
   ]
  },
  {
   "cell_type": "code",
   "execution_count": null,
   "metadata": {},
   "outputs": [],
   "source": [
    "# export\n",
    "\"\"\"\n",
    "Google OAuth2 login module.\n",
    "\"\"\"\n",
    "import json\n",
    "import pickle\n",
    "from urllib.error import HTTPError\n",
    "from urllib.request import urlopen\n",
    "import google.auth.transport.requests\n",
    "from googleapiclient.discovery import build\n",
    "from google_auth_oauthlib.flow import InstalledAppFlow\n",
    "\n",
    "\n",
    "class Credentials:\n",
    "    \"\"\"Login to Google services.\"\"\"\n",
    "\n",
    "    def __init__(self):\n",
    "        self.check_url = \"https://www.googleapis.com/oauth2/v1/tokeninfo?access_token=\"\n",
    "        self.credentials = None\n",
    "        try:\n",
    "            with open(\"./credentials.json\", \"rb\") as handle:\n",
    "                self.credentials = json.load(handle)\n",
    "        except:\n",
    "            self.credentials = json.loads('{\"installed\":{\"client_id\":\"769904540573-knscs3mhvd56odnf7i8h3al13kiqulft.apps.googleusercontent.com\",\"project_id\":\"seonotebook-1470430760084\",\"auth_uri\":\"https://accounts.google.com/o/oauth2/auth\",\"token_uri\":\"https://oauth2.googleapis.com/token\",\"auth_provider_x509_cert_url\":\"https://www.googleapis.com/oauth2/v1/certs\",\"client_secret\":\"D2F1D--b_yKNLrJSPmrn2jik\",\"redirect_uris\":[\"urn:ietf:wg:oauth:2.0:oob\",\"http://localhost\"]}}')\n",
    "#         self.get()\n",
    "\n",
    "    def login(self):\n",
    "        \"\"\"Start web-based Google OAuth2 login prompt.\"\"\"\n",
    "        flow = InstalledAppFlow.from_client_config(self.credentials, self.scopes)\n",
    "        self.credentials = flow.run_console()\n",
    "        with open(\"credentials.pkl\", \"wb\") as handle:\n",
    "            pickle.dump(self.credentials, handle)\n",
    "        return self.credentials\n",
    "\n",
    "    def refresh_token(self):\n",
    "        \"\"\"Refresh token to make new logins generally not required.\"\"\"\n",
    "        with open(\"credentials.pkl\", \"rb\") as handle:\n",
    "            self.credentials = pickle.load(handle)\n",
    "        cred_url = self.check_url + self.credentials.token\n",
    "        try:\n",
    "            cred_response = urlopen(cred_url)\n",
    "        except HTTPError:\n",
    "            request = google.auth.transport.requests.Request()\n",
    "            self.credentials.refresh(request)\n",
    "            with open(\"credentials.pkl\", \"wb\") as handle:\n",
    "                pickle.dump(self.credentials, handle)\n",
    "        return self.credentials\n",
    "    \n",
    "    def get(self):\n",
    "        self.scopes = []\n",
    "        add_scope = self.scopes.append\n",
    "        add_scope(\"https://www.googleapis.com/auth/webmasters.readonly\")\n",
    "        add_scope(\"https://www.googleapis.com/auth/analytics.readonly\")\n",
    "        try:\n",
    "            self.credentials = self.refresh_token()\n",
    "        except:\n",
    "            self.credentials = self.login()\n",
    "        return self.credentials\n",
    "\n",
    "# if __name__ == \"__main__\":\n",
    "#     credentials = Credentials().get()\n",
    "#     print(credentials)"
   ]
  },
  {
   "cell_type": "code",
   "execution_count": null,
   "metadata": {},
   "outputs": [
    {
     "name": "stdout",
     "output_type": "stream",
     "text": [
      "Please visit this URL to authorize this application: https://accounts.google.com/o/oauth2/auth?response_type=code&client_id=769904540573-knscs3mhvd56odnf7i8h3al13kiqulft.apps.googleusercontent.com&redirect_uri=urn%3Aietf%3Awg%3Aoauth%3A2.0%3Aoob&scope=https%3A%2F%2Fwww.googleapis.com%2Fauth%2Fwebmasters.readonly+https%3A%2F%2Fwww.googleapis.com%2Fauth%2Fanalytics.readonly&state=9Fs6eS13PMbf8MQOmokvWVO58FOUvF&prompt=consent&access_type=offline\n"
     ]
    }
   ],
   "source": [
    "credentials = Credentials().get()"
   ]
  },
  {
   "cell_type": "code",
   "execution_count": null,
   "metadata": {},
   "outputs": [],
   "source": [
    "credentials"
   ]
  },
  {
   "cell_type": "code",
   "execution_count": null,
   "metadata": {},
   "outputs": [],
   "source": [
    "# Retrieve list of Search Console sites\n",
    "gsc_service = build('webmasters', 'v3', credentials=credentials)\n",
    "gsc_sites = gsc_service.sites().list().execute()\n",
    "[print(x['siteUrl']) for x in gsc_sites['siteEntry']];"
   ]
  },
  {
   "cell_type": "code",
   "execution_count": null,
   "metadata": {},
   "outputs": [],
   "source": [
    "# Retreive list of Google Analytics accounts\n",
    "ga_service = build('analytics', 'v3', credentials=credentials)\n",
    "ga_accounts = ga_service.management().accounts().list().execute()\n",
    "[print((x['id'], x['name'])) for x in ga_accounts['items']];"
   ]
  },
  {
   "cell_type": "code",
   "execution_count": null,
   "metadata": {},
   "outputs": [],
   "source": []
  }
 ],
 "metadata": {
  "kernelspec": {
   "display_name": "Python 3",
   "language": "python",
   "name": "python3"
  }
 },
 "nbformat": 4,
 "nbformat_minor": 4
}
