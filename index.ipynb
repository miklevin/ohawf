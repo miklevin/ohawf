{
 "cells": [
  {
   "cell_type": "code",
   "execution_count": null,
   "metadata": {},
   "outputs": [],
   "source": [
    "#hide\n",
    "from ohawf.core import *"
   ]
  },
  {
   "cell_type": "markdown",
   "metadata": {},
   "source": [
    "# ohawf\n",
    "\n",
    "> Google OAuth2 login that's not oh... awful."
   ]
  },
  {
   "cell_type": "markdown",
   "metadata": {},
   "source": [
    "## Install"
   ]
  },
  {
   "cell_type": "markdown",
   "metadata": {},
   "source": [
    "`pip install -U ohawf`"
   ]
  },
  {
   "cell_type": "markdown",
   "metadata": {},
   "source": [
    "All Google services require OAuth2 authentication and its complexity is a big barrier for entry for newbs just getting started. If you have dreams of doing nifty Python with all your Google data (GA, GSC, GSheets, etc.) and have failed in the past over mere login issues, this package is for you. For example, ohawf simplifies the SEO-related processes described on their [GSC API quickstart](https://developers.google.com/webmaster-tools/search-console-api-original/v3/quickstart/quickstart-python) page."
   ]
  },
  {
   "cell_type": "markdown",
   "metadata": {},
   "source": [
    "## How to use\n",
    "\n",
    "    import ohawf\n",
    "    \n",
    "    credentials = ohawf.Credentials().get()\n",
    "\n",
    "Import ohawf and create a credentials object like this. You will immediately receive a link for the Web-based Google OAuth2 login prompt. If you're in Jupyter, you can just click it. If you're in Terminal, copy/paste it to the Browser address bar. Pick the account you want when the Google prompt pops up. Copy/paste the token back into Jupyter or terminal. You will then be sitting on top of an authenticated ***credentials object*** that is used to create new Google service objects.\n",
    "\n",
    "I'm attempting to get App Verification from Google. Until I do, you may need to click ***Advanced*** and ***Go to OhAwf (unsafe)***.\n",
    "\n",
    "## Google Services\n",
    "\n",
    "After we have an authenticated credentials object, we build Google services objects with ***build*** from the Google API Python client installed as a requirement of ohawf.\n",
    "\n",
    "    from apiclient.discovery import build\n",
    "    \n",
    "Connect to Google services by giving ***build*** any (activated) API name, version and credetials such listing your GSC sites:\n",
    "\n",
    "    gsc_service = build('webmasters', 'v3', credentials=credentials)\n",
    "    gsc_sites = gsc_service.sites().list().execute()\n",
    "    [print(x['siteUrl']) for x in gsc_sites['siteEntry']];\n",
    "\n",
    "...or this go list your GA accounts:\n",
    "\n",
    "    ga_service = build('analytics', 'v3', credentials=credentials)\n",
    "    ga_accounts = ga_service.management().accounts().list().execute()\n",
    "    [print((x['id'], x['name'])) for x in ga_accounts['items']];\n",
    "\n",
    "## Rant\n",
    "Notice how clean this code is. Missing is all the authentication slop and needless spreading of this process over multiple functions. It seems to be every documenter's favorite game to obfuscate Google service examples, thus infuriating newbs and raising the bar to entry. Just as advancements like Jupyter make software development fun and easy, other things like login become more difficult, I suppose to maintain some comic balance.\n",
    "\n",
    "## Become a Google Developer\n",
    "This ohawf package is ready to go. If you pip install it, you'll be using my Pipulate credentials. This is fine, but you have to live with whichever API services I happen to enable through the Google Developers Console. In other words, you can only do stuff with:\n",
    "\n",
    "- Analytics Reporting\n",
    "- Chrome UX Report\n",
    "- Google Search\n",
    "- Google Analytics\n",
    "- Google Sheets\n",
    "- Gmail\n",
    "- PageSpeed Insights\n",
    "- YouTube Analytics\t\t\t\t\n",
    "- YouTube Data\n",
    "\n",
    "...and that's only if you edit the code to add anything other than GA and GSC to scope. Right now I have the API for everything above on, but scope only for 2 services. If you'd like me to add something to the default, reach out and let me know. I've considered making scope an argument that could be fed in on the credentials request but thought that would complicate things too much for version 1. Let me know if you think it's a good idea.\n",
    "\n",
    "## Google Developers Console\n",
    "If however you want to take control of your own destiny, using this login trick to work with Google Photos, Big Query, Maps, or the Google Cloud Platform, you're going to want to replace the credentials.json file with your own. If you pip installed ohawf, then this is burried in pip's site-package folder and will be overwritten again with my own on every pip --upgrade. So git clone it instead, then go to the [Google Developers Console](https://console.developers.google.com/) and get your credentials.json. \n",
    "\n",
    "If you switch from a ***pip install*** to ***git clone***, then uninstall the pip version:\n",
    "\n",
    "    pip uninstall ohawf\n",
    "\n",
    "## Developers Console vs. Cloud Console\n",
    "The [Google Developers Console](https://console.developers.google.com/) is the older and simpler version of the [Google Cloud Platform](https://console.cloud.google.com/). You can probably use either one, but these instructions are for the GDC. You have to make at least 1 Project to get a credential file. From the Project you can click *Credentials* on the left-nav and create a new *OAuth 2.0 Client IDs* for *desktop* (middle option). \n",
    "\n",
    "## OAuth 2.0 Client IDs (for Desktop)\n",
    "The ohawf package runs as a user account in a ***Desktop App*** so it can masquerade as you through 3-legged OAuth2 (that Web-login thing). While the alternative ***Service Accounts*** are better for more reliable automation, they would not allow you access to your own data in this context. Think of Jupyter as the desktop app. It all stays private because Jupyter's on your machine. ***Beware sharing credentials on Colab, Asure Notebooks, [MyBinder](https://mybinder.org/) or the like.*** \n",
    "\n",
    "Download and rename your *OAuth 2.0 Client IDs* for *desktop* file to credentials.json. It should already have a .json extension. Drop the renamed file into the ohawf repo folder. If you're using Jupyter, it's fine to put it in the upper folder with the .ipynb files. If you're running from command-line, also put a copy of credentials.json in the nested ohawf folder.\n",
    "\n",
    "## About the Author\n",
    "I used to be Mike Levin, [SEO in NYC](https://mikelev.in/). Since our lovely pandemic I got my butt back to Pennsylvania and am now the [Poconos Pythonista](https://www.youtube.com/channel/UCd26IHBHcbtxD7pUdnIgiCw) focusing on the kind of data exploration and automation folks are calling Data Engineering these days. Once upon a time, I worked for legendary Commodore Computers due to my love for the amazing Amiga computer, which spoiled me then caused me to be disappointed with everything to follow. Finally I'm finding the love again using a certain mix of Linux, Python, vim and git (plus Jupyter and Virtual Desktops). Today, I'm part of the J2 family of sites including [Mashable](https://mashable.com/), [PCMag](https://www.pcmag.com/picks/the-best-seo-tools), [Everyday Health](https://www.everydayhealthgroup.com/) and [RetailMeNot](https://www.retailmenot.com/). To thank me for this package, visit these sites. In particular if you use browser shopping plugins and mobile apps, try RMN's [coupon app](https://www.retailmenot.com/mobile) or [coupon plugin](https://www.retailmenot.com/dealfinder/?utm_source=github&utm_medium=employee_miklevin)."
   ]
  },
  {
   "cell_type": "markdown",
   "metadata": {},
   "source": [
    "## Copyright (c) 2021 Mike Levin\n",
    "\n",
    "Permission is hereby granted, free of charge, to any person obtaining a copy\n",
    "of this software and associated documentation files (the \"Software\"), to deal\n",
    "in the Software without restriction, including without limitation the rights\n",
    "to use, copy, modify, merge, publish, distribute, sublicense, and/or sell\n",
    "copies of the Software, and to permit persons to whom the Software is\n",
    "furnished to do so, subject to the following conditions:\n",
    "\n",
    "The above copyright notice and this permission notice shall be included in all\n",
    "copies or substantial portions of the Software.\n",
    "\n",
    "THE SOFTWARE IS PROVIDED \"AS IS\", WITHOUT WARRANTY OF ANY KIND, EXPRESS OR\n",
    "IMPLIED, INCLUDING BUT NOT LIMITED TO THE WARRANTIES OF MERCHANTABILITY,\n",
    "FITNESS FOR A PARTICULAR PURPOSE AND NONINFRINGEMENT. IN NO EVENT SHALL THE\n",
    "AUTHORS OR COPYRIGHT HOLDERS BE LIABLE FOR ANY CLAIM, DAMAGES OR OTHER\n",
    "LIABILITY, WHETHER IN AN ACTION OF CONTRACT, TORT OR OTHERWISE, ARISING FROM,\n",
    "OUT OF OR IN CONNECTION WITH THE SOFTWARE OR THE USE OR OTHER DEALINGS IN THE\n",
    "SOFTWARE."
   ]
  },
  {
   "cell_type": "markdown",
   "metadata": {},
   "source": [
    "# Privacy Policy\n",
    "##  Last updated: March 10, 2021\n",
    "\n",
    "This app does not collect nor use any of Your Personal data."
   ]
  }
 ],
 "metadata": {
  "kernelspec": {
   "display_name": "Python 3",
   "language": "python",
   "name": "python3"
  }
 },
 "nbformat": 4,
 "nbformat_minor": 4
}
