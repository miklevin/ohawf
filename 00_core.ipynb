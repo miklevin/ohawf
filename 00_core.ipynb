{
 "cells": [
  {
   "cell_type": "code",
   "execution_count": null,
   "metadata": {},
   "outputs": [],
   "source": [
    "# default_exp core"
   ]
  },
  {
   "cell_type": "markdown",
   "metadata": {},
   "source": [
    "# ohawf\n",
    "\n",
    "> "
   ]
  },
  {
   "cell_type": "code",
   "execution_count": null,
   "metadata": {},
   "outputs": [],
   "source": [
    "%load_ext lab_black\n",
    "%reload_ext lab_black"
   ]
  },
  {
   "cell_type": "code",
   "execution_count": null,
   "metadata": {},
   "outputs": [],
   "source": [
    "# hide\n",
    "from nbdev.showdoc import *"
   ]
  },
  {
   "cell_type": "code",
   "execution_count": null,
   "metadata": {},
   "outputs": [],
   "source": [
    "# export\n",
    "\"\"\"\n",
    "Google OAuth2 login module.\n",
    "\"\"\"\n",
    "import json\n",
    "import pickle\n",
    "from os import environ\n",
    "from pathlib import Path\n",
    "from urllib.error import HTTPError\n",
    "from urllib.request import urlopen\n",
    "import google.auth.transport.requests\n",
    "from googleapiclient.discovery import build\n",
    "from google.auth.exceptions import RefreshError\n",
    "from google_auth_oauthlib.flow import InstalledAppFlow\n",
    "\n",
    "\n",
    "class Credentials:\n",
    "    \"\"\"Login to Google services.\"\"\"\n",
    "\n",
    "    def __init__(self, scopes=False):\n",
    "        environ[\"OAUTHLIB_RELAX_TOKEN_SCOPE\"] = \"1\"\n",
    "        self.check_url = \"https://www.googleapis.com/oauth2/v1/tokeninfo?access_token=\"\n",
    "        if type(scopes) == list:\n",
    "            self.scopes = scopes\n",
    "        elif Path(\"./scopes.csv\").is_file():\n",
    "            with open(\"./scopes.csv\") as file_handle:\n",
    "                self.scopes = file_handle.read().splitlines()\n",
    "        else:\n",
    "            self.scopes = [\n",
    "                \"https://www.googleapis.com/auth/webmasters.readonly\",\n",
    "                \"https://www.googleapis.com/auth/analytics.readonly\",\n",
    "                \"https://www.googleapis.com/auth/userinfo.email\",\n",
    "            ]\n",
    "        self.credentials = None\n",
    "        credentials_file = \"./credentials-default.json\"\n",
    "        if Path(\"./credentials.json\").is_file():\n",
    "            credentials_file = \"./credentials.json\"\n",
    "        try:\n",
    "            with open(credentials_file, \"rb\") as handle:\n",
    "                self.credentials = json.load(handle)\n",
    "        except:\n",
    "            self.credentials = json.loads(\n",
    "                '{\"installed\":{\"client_id\":\"769904540573-knscs3mhvd56odnf7i8h3al13kiqulft.apps.googleusercontent.com\",\"project_id\":\"seonotebook-1470430760084\",\"auth_uri\":\"https://accounts.google.com/o/oauth2/auth\",\"token_uri\":\"https://oauth2.googleapis.com/token\",\"auth_provider_x509_cert_url\":\"https://www.googleapis.com/oauth2/v1/certs\",\"client_secret\":\"D2F1D--b_yKNLrJSPmrn2jik\",\"redirect_uris\":[\"urn:ietf:wg:oauth:2.0:oob\",\"http://localhost\"]}}'\n",
    "            )\n",
    "        self.get()\n",
    "\n",
    "    def login(self):\n",
    "        \"\"\"Start web-based Google OAuth2 login prompt.\"\"\"\n",
    "        flow = InstalledAppFlow.from_client_config(self.credentials, self.scopes)\n",
    "        self.credentials = flow.run_console()\n",
    "        with open(\"credentials.pkl\", \"wb\") as handle:\n",
    "            pickle.dump(self.credentials, handle)\n",
    "        return self.credentials\n",
    "\n",
    "    def refresh_token(self):\n",
    "        \"\"\"Refresh token to make new logins generally not required.\"\"\"\n",
    "        with open(\"credentials.pkl\", \"rb\") as handle:\n",
    "            self.credentials = pickle.load(handle)\n",
    "        cred_url = self.check_url + self.credentials.token\n",
    "        try:\n",
    "            cred_response = urlopen(cred_url)\n",
    "        except HTTPError:\n",
    "            request = google.auth.transport.requests.Request()\n",
    "            self.credentials.refresh(request)\n",
    "            with open(\"credentials.pkl\", \"wb\") as handle:\n",
    "                pickle.dump(self.credentials, handle)\n",
    "        return self.credentials\n",
    "\n",
    "    def get(self):\n",
    "        try:\n",
    "            self.credentials = self.refresh_token()\n",
    "        except RefreshError:\n",
    "            print(\"Fatal refresh error. Check validity of credentials.json\")\n",
    "        except:\n",
    "            self.credentials = self.login()\n",
    "        return self.credentials\n",
    "\n",
    "\n",
    "def get():\n",
    "    \"\"\"Authenticate\"\"\"\n",
    "    return Credentials().get()\n",
    "\n",
    "\n",
    "if __name__ == \"__main__\":\n",
    "    print(\"You may provide your own credentials.json and scopes.csv files.\")\n",
    "    print(\"To create a Google OAuth2 Credentials object:\")\n",
    "    print()\n",
    "    print(\"cred = ohawf.get()\")"
   ]
  },
  {
   "cell_type": "code",
   "execution_count": null,
   "metadata": {},
   "outputs": [],
   "source": [
    "scopes = [\n",
    "    \"https://spreadsheets.google.com/feeds/\",\n",
    "    \"https://www.googleapis.com/auth/userinfo.email\",\n",
    "    \"https://www.googleapis.com/auth/gmail.modify\",\n",
    "    \"https://www.googleapis.com/auth/analytics.readonly\",\n",
    "    \"https://www.googleapis.com/auth/webmasters.readonly\",\n",
    "    \"https://www.googleapis.com/auth/yt-analytics.readonly\",\n",
    "    \"https://www.googleapis.com/auth/youtube.readonly\",\n",
    "]"
   ]
  },
  {
   "cell_type": "code",
   "execution_count": null,
   "metadata": {},
   "outputs": [],
   "source": [
    "cred = Credentials(scopes).get()"
   ]
  },
  {
   "cell_type": "code",
   "execution_count": null,
   "metadata": {},
   "outputs": [],
   "source": [
    "service = build(\"oauth2\", \"v2\", credentials=cred)\n",
    "user_document = service.userinfo().get().execute()\n",
    "print(user_document[\"email\"])"
   ]
  },
  {
   "cell_type": "code",
   "execution_count": null,
   "metadata": {},
   "outputs": [],
   "source": [
    "# Retrieve list of Search Console sites\n",
    "gsc_service = build('webmasters', 'v3', credentials=cred)\n",
    "gsc_sites = gsc_service.sites().list().execute()\n",
    "[print(x['siteUrl']) for x in gsc_sites['siteEntry']];"
   ]
  },
  {
   "cell_type": "code",
   "execution_count": null,
   "metadata": {},
   "outputs": [],
   "source": [
    "# Retreive list of Google Analytics accounts\n",
    "ga_service = build('analytics', 'v3', credentials=cred)\n",
    "ga_accounts = ga_service.management().accounts().list().execute()\n",
    "[print((x['id'], x['name'])) for x in ga_accounts['items']];"
   ]
  }
 ],
 "metadata": {
  "kernelspec": {
   "display_name": "Python 3",
   "language": "python",
   "name": "python3"
  }
 },
 "nbformat": 4,
 "nbformat_minor": 4
}
