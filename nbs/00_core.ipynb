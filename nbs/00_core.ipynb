{
 "cells": [
  {
   "cell_type": "raw",
   "metadata": {},
   "source": [
    "---\n",
    "output-file: core.html\n",
    "title: ohawf\n",
    "---"
   ]
  },
  {
   "cell_type": "code",
   "execution_count": null,
   "metadata": {},
   "outputs": [],
   "source": [
    "#| default_exp core"
   ]
  },
  {
   "cell_type": "code",
   "execution_count": null,
   "metadata": {},
   "outputs": [],
   "source": [
    "%load_ext lab_black"
   ]
  },
  {
   "cell_type": "code",
   "execution_count": null,
   "metadata": {},
   "outputs": [],
   "source": [
    "# | include: false\n",
    "from nbdev.showdoc import *"
   ]
  },
  {
   "cell_type": "code",
   "execution_count": null,
   "metadata": {},
   "outputs": [
    {
     "name": "stdout",
     "output_type": "stream",
     "text": [
      "creds = ohawf.get()  # Default\n",
      "creds = ohawf.get(scopes=scopes)  # If you have your own scopes\n",
      "creds = ohawf.get(file=\"client_secret.json*\")  # If you've have one\n",
      "creds = ohawf.get(\"creds.pkl\")  # For specific pickled credentials file\n"
     ]
    }
   ],
   "source": [
    "# | export\n",
    "\"\"\"\n",
    "Google OAuth2 login module.\n",
    "\"\"\"\n",
    "\n",
    "import json\n",
    "import pickle\n",
    "from sys import exit\n",
    "from os import environ\n",
    "from pathlib import Path\n",
    "from random import randint\n",
    "from urllib.error import HTTPError\n",
    "from urllib.request import urlopen\n",
    "import google.auth.transport.requests\n",
    "from googleapiclient.discovery import build\n",
    "from google.auth.exceptions import RefreshError\n",
    "from google_auth_oauthlib.flow import InstalledAppFlow\n",
    "\n",
    "\n",
    "class Credentials:\n",
    "    \"\"\"Login to Google services.\"\"\"\n",
    "\n",
    "    def __init__(self):\n",
    "        environ[\"OAUTHLIB_RELAX_TOKEN_SCOPE\"] = \"1\"\n",
    "        self.check_url = \"https://www.googleapis.com/oauth2/v1/tokeninfo?access_token=\"\n",
    "\n",
    "    def get(self, pkl=False, cli=False, scopes=False, file=False):\n",
    "        if file:\n",
    "            with open(file, \"rb\") as handle:\n",
    "                self.credentials = json.load(handle)\n",
    "        else:\n",
    "            self.credentials = json.loads(\n",
    "                '{\"installed\":{\"client_id\":\"769904540573-knscs3mhvd56odnf7i8h3al13kiqulft.apps.googleusercontent.com\",\"project_id\":\"seonotebook-1470430760084\",\"auth_uri\":\"https://accounts.google.com/o/oauth2/auth\",\"token_uri\":\"https://oauth2.googleapis.com/token\",\"auth_provider_x509_cert_url\":\"https://www.googleapis.com/oauth2/v1/certs\",\"client_secret\":\"D2F1D--b_yKNLrJSPmrn2jik\",\"redirect_uris\":[\"urn:ietf:wg:oauth:2.0:oob\",\"http://localhost\"]}}'\n",
    "            )\n",
    "        if not scopes:\n",
    "            scopes = [\n",
    "                \"https://www.googleapis.com/auth/spreadsheets\",\n",
    "                \"https://www.googleapis.com/auth/gmail.modify\",\n",
    "                \"https://www.googleapis.com/auth/userinfo.email\",\n",
    "                \"https://www.googleapis.com/auth/youtube.readonly\",\n",
    "                \"https://www.googleapis.com/auth/analytics.readonly\",\n",
    "                \"https://www.googleapis.com/auth/webmasters.readonly\",\n",
    "                \"https://www.googleapis.com/auth/yt-analytics.readonly\",\n",
    "                \"https://ww.googleapis.com/auth/photoslibrary.readonly\",\n",
    "            ]\n",
    "\n",
    "        if not pkl:\n",
    "            pkl = \"credentials.pkl\"\n",
    "        try:\n",
    "            self.credentials = self.refresh_token(pkl=pkl, cli=cli, scopes=scopes)\n",
    "        except Exception as error:\n",
    "            print(error)\n",
    "            exit(1)\n",
    "        return self.credentials\n",
    "\n",
    "    def refresh_token(self, pkl=False, cli=False, scopes=False):\n",
    "        \"\"\"Refresh token to make new logins generally not required.\"\"\"\n",
    "\n",
    "        print(\"Logging in... \", end=\"\")\n",
    "        try:\n",
    "            with open(pkl, \"rb\") as handle:\n",
    "                self.credentials = pickle.load(handle)\n",
    "        except FileNotFoundError:\n",
    "            print(\"Stored login credentials not found. Login required...\")\n",
    "            self.credentials = self.login(pkl=pkl, cli=cli, scopes=scopes)\n",
    "\n",
    "        request = google.auth.transport.requests.Request()\n",
    "        login_required, bad_scope = False, False\n",
    "        try:\n",
    "            self.credentials.refresh(request)\n",
    "        except RefreshError as error:\n",
    "            print(\"Refresh error!\")\n",
    "            print(error.args[0])\n",
    "            login_required = True\n",
    "            if \"scope\" in error.args[0]:\n",
    "                bad_scope = True\n",
    "        if bad_scope:\n",
    "            Path(pkl).unlink()\n",
    "        if login_required:\n",
    "            self.credentials = self.login(cli)\n",
    "\n",
    "        # Test if credentials are good\n",
    "        success = False\n",
    "        cred_url = self.check_url + self.credentials.token\n",
    "        try:\n",
    "            cred_response = urlopen(cred_url)\n",
    "            success = True\n",
    "        except Exception as error:\n",
    "            pass\n",
    "\n",
    "        if success:\n",
    "            service = build(\"oauth2\", \"v2\", credentials=self.credentials)\n",
    "            user_document = service.userinfo().get().execute()\n",
    "            full_email = user_document[\"email\"]\n",
    "            m0, m1 = full_email.split(\"@\")\n",
    "            stars = randint(9, 17) * \"*\"\n",
    "            display_email = f\"{m0[0]}{stars}@{m1}\"\n",
    "            print(f\"Successfully logged in as {display_email}\")\n",
    "\n",
    "        return self.credentials\n",
    "\n",
    "    def login(self, pkl=False, cli=False, scopes=False):\n",
    "        \"\"\"Start web-based Google OAuth2 login prompt.\"\"\"\n",
    "\n",
    "        flow = InstalledAppFlow.from_client_config(self.credentials, scopes)\n",
    "        if cli:\n",
    "            self.credentials = flow.run_console()\n",
    "        else:\n",
    "            self.credentials = flow.run_local_server()\n",
    "        with open(pkl, \"wb\") as handle:\n",
    "            pickle.dump(self.credentials, handle)\n",
    "        return self.credentials\n",
    "\n",
    "\n",
    "def get(pkl=False, cli=False, scopes=False, file=False):\n",
    "    \"\"\"Allows simplified ohawf.get() API\"\"\"\n",
    "    return Credentials().get(pkl=pkl, cli=cli, scopes=scopes, file=file)\n",
    "\n",
    "\n",
    "if __name__ == \"__main__\":\n",
    "    print(\"creds = ohawf.get()  # Default\")\n",
    "    print(\"creds = ohawf.get(scopes=scopes)  # If you have your own scopes\")\n",
    "    print('creds = ohawf.get(file=\"client_secret.json*\")  # If you\\'ve have one')\n",
    "    print('creds = ohawf.get(\"creds.pkl\")  # For specific pickled credentials file')"
   ]
  },
  {
   "cell_type": "code",
   "execution_count": null,
   "metadata": {},
   "outputs": [],
   "source": [
    "# Default behavior causes run_local_server InstalledAppFlow\n",
    "\n",
    "creds = get()"
   ]
  },
  {
   "cell_type": "code",
   "execution_count": null,
   "metadata": {},
   "outputs": [],
   "source": [
    "# Server behavior causes run_console InstalledAppFlow\n",
    "# This approach is deprecated by Google but can be white-listed on a per-user basis\n",
    "# at https://console.cloud.google.com/ (you'd have to re-wire it to yours)\n",
    "\n",
    "creds = get(cli=True)"
   ]
  },
  {
   "cell_type": "code",
   "execution_count": null,
   "metadata": {},
   "outputs": [],
   "source": [
    "# You can rename your crendentials.pkl file and select it later\n",
    "\n",
    "creds = get(\"renamed_credentials.pkl\")"
   ]
  },
  {
   "cell_type": "code",
   "execution_count": null,
   "metadata": {},
   "outputs": [
    {
     "name": "stdout",
     "output_type": "stream",
     "text": [
      "Logging in... Successfully logged in as m*****************@gmail.com\n"
     ]
    }
   ],
   "source": [
    "# If you registerred as a developer at https://console.cloud.google.com/\n",
    "# then you can download an OAuth Client json file at console.cloud.google.com / \n",
    "# Projects / APIs & Services / Credentials / OAuth 2.0 Client IDs\n",
    "\n",
    "creds = get(file=\"client_secret.json\")"
   ]
  },
  {
   "cell_type": "code",
   "execution_count": null,
   "metadata": {},
   "outputs": [],
   "source": [
    "# Retrieve list of Search Console sites\n",
    "gsc_service = build(\"webmasters\", \"v3\", credentials=cred)\n",
    "gsc_sites = gsc_service.sites().list().execute()\n",
    "[print(x[\"siteUrl\"]) for x in gsc_sites[\"siteEntry\"]]"
   ]
  },
  {
   "cell_type": "code",
   "execution_count": null,
   "metadata": {},
   "outputs": [],
   "source": [
    "# Retreive list of Google Analytics accounts\n",
    "ga_service = build(\"analytics\", \"v3\", credentials=cred)\n",
    "ga_accounts = ga_service.management().accounts().list().execute()\n",
    "[print((x[\"id\"], x[\"name\"])) for x in ga_accounts[\"items\"]]"
   ]
  },
  {
   "cell_type": "code",
   "execution_count": null,
   "metadata": {},
   "outputs": [],
   "source": []
  }
 ],
 "metadata": {
  "kernelspec": {
   "display_name": "Python 3 (ipykernel)",
   "language": "python",
   "name": "python3"
  }
 },
 "nbformat": 4,
 "nbformat_minor": 4
}
