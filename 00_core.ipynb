{
 "cells": [
  {
   "cell_type": "code",
   "execution_count": null,
   "metadata": {},
   "outputs": [],
   "source": [
    "# default_exp core"
   ]
  },
  {
   "cell_type": "markdown",
   "metadata": {},
   "source": [
    "# ohawf\n",
    "\n",
    "> "
   ]
  },
  {
   "cell_type": "code",
   "execution_count": null,
   "metadata": {},
   "outputs": [],
   "source": [
    "%load_ext lab_black\n",
    "%reload_ext lab_black"
   ]
  },
  {
   "cell_type": "code",
   "execution_count": null,
   "metadata": {},
   "outputs": [],
   "source": [
    "# hide\n",
    "from nbdev.showdoc import *"
   ]
  },
  {
   "cell_type": "code",
   "execution_count": 3,
   "metadata": {},
   "outputs": [
    {
     "name": "stdout",
     "output_type": "stream",
     "text": [
      "You may provide your own credentials.json and scopes.csv files.\n",
      "To create a Google OAuth2 Credentials object:\n",
      "\n",
      "cred = ohawf.get()\n"
     ]
    }
   ],
   "source": [
    "# export\n",
    "\"\"\"\n",
    "Google OAuth2 login module.\n",
    "\"\"\"\n",
    "import json\n",
    "import pickle\n",
    "from os import environ\n",
    "from pathlib import Path\n",
    "from urllib.error import HTTPError\n",
    "from urllib.request import urlopen\n",
    "import google.auth.transport.requests\n",
    "from googleapiclient.discovery import build\n",
    "from google.auth.exceptions import RefreshError\n",
    "from google_auth_oauthlib.flow import InstalledAppFlow\n",
    "\n",
    "\n",
    "class Credentials:\n",
    "    \"\"\"Login to Google services.\"\"\"\n",
    "\n",
    "    def __init__(self, user='default', scopes=False):\n",
    "        environ[\"OAUTHLIB_RELAX_TOKEN_SCOPE\"] = \"1\"\n",
    "        self.check_url = \"https://www.googleapis.com/oauth2/v1/tokeninfo?access_token=\"\n",
    "        if type(scopes) == list:\n",
    "            self.scopes = scopes\n",
    "        elif \"scopes\" in globals():\n",
    "            self.scopes = scopes.scopes\n",
    "        elif Path(\"./scopes.csv\").is_file():\n",
    "            with open(\"./scopes.csv\") as file_handle:\n",
    "                self.scopes = file_handle.read().splitlines()\n",
    "        else:\n",
    "            self.scopes = [\n",
    "                \"https://spreadsheets.google.com/feeds/\",\n",
    "                \"https://www.googleapis.com/auth/userinfo.email\",\n",
    "                \"https://www.googleapis.com/auth/gmail.modify\",\n",
    "                \"https://www.googleapis.com/auth/analytics.readonly\",\n",
    "                \"https://www.googleapis.com/auth/webmasters.readonly\",\n",
    "                \"https://www.googleapis.com/auth/yt-analytics.readonly\",\n",
    "                \"https://www.googleapis.com/auth/youtube.readonly\",\n",
    "            ]\n",
    "        print(\"The Google access scopes being requested are:\")\n",
    "        for ascope in self.scopes:\n",
    "            print(ascope)\n",
    "        print()\n",
    "        self.credentials = None\n",
    "        credentials_path = 'credentials'\n",
    "        if not Path(credentials_path).exists():\n",
    "            Path(credentials_path).mkdir()\n",
    "        credentials_file = Path(credentials_path) / Path(user + \".json\")\n",
    "        if credentials_file.is_file():\n",
    "            credentials_file = Path(f\"{user}.json\")\n",
    "        try:\n",
    "            with open(credentials_file, \"rb\") as handle:\n",
    "                self.credentials = json.load(handle)\n",
    "        except:\n",
    "            self.credentials = json.loads(\n",
    "                '{\"installed\":{\"client_id\":\"769904540573-knscs3mhvd56odnf7i8h3al13kiqulft.apps.googleusercontent.com\",\"project_id\":\"seonotebook-1470430760084\",\"auth_uri\":\"https://accounts.google.com/o/oauth2/auth\",\"token_uri\":\"https://oauth2.googleapis.com/token\",\"auth_provider_x509_cert_url\":\"https://www.googleapis.com/oauth2/v1/certs\",\"client_secret\":\"D2F1D--b_yKNLrJSPmrn2jik\",\"redirect_uris\":[\"urn:ietf:wg:oauth:2.0:oob\",\"http://localhost\"]}}'\n",
    "            )\n",
    "        self.get()\n",
    "\n",
    "    def login(self):\n",
    "        \"\"\"Start web-based Google OAuth2 login prompt.\"\"\"\n",
    "        flow = InstalledAppFlow.from_client_config(self.credentials, self.scopes)\n",
    "        self.credentials = flow.run_console()\n",
    "        with open(\"credentials.pkl\", \"wb\") as handle:\n",
    "            pickle.dump(self.credentials, handle)\n",
    "        return self.credentials\n",
    "\n",
    "    def refresh_token(self):\n",
    "        \"\"\"Refresh token to make new logins generally not required.\"\"\"\n",
    "        with open(\"credentials.pkl\", \"rb\") as handle:\n",
    "            self.credentials = pickle.load(handle)\n",
    "        cred_url = self.check_url + self.credentials.token\n",
    "        try:\n",
    "            cred_response = urlopen(cred_url)\n",
    "        except HTTPError:\n",
    "            request = google.auth.transport.requests.Request()\n",
    "            self.credentials.refresh(request)\n",
    "            with open(\"credentials.pkl\", \"wb\") as handle:\n",
    "                pickle.dump(self.credentials, handle)\n",
    "        return self.credentials\n",
    "\n",
    "    def get(self):\n",
    "        try:\n",
    "            self.credentials = self.refresh_token()\n",
    "        except RefreshError:\n",
    "            print(\"Fatal refresh error. Check validity of credentials.json\")\n",
    "        except:\n",
    "            self.credentials = self.login()\n",
    "        return self.credentials\n",
    "\n",
    "\n",
    "def get():\n",
    "    \"\"\"Authenticate\"\"\"\n",
    "    return Credentials().get()\n",
    "\n",
    "\n",
    "if __name__ == \"__main__\":\n",
    "    print(\"You may provide your own credentials.json and scopes.csv files.\")\n",
    "    print(\"To create a Google OAuth2 Credentials object:\")\n",
    "    print()\n",
    "    print(\"cred = ohawf.get()\")"
   ]
  },
  {
   "cell_type": "code",
   "execution_count": 4,
   "metadata": {},
   "outputs": [
    {
     "name": "stdout",
     "output_type": "stream",
     "text": [
      "The Google access scopes being requested are:\n",
      "https://spreadsheets.google.com/feeds/\n",
      "https://www.googleapis.com/auth/userinfo.email\n",
      "https://www.googleapis.com/auth/gmail.modify\n",
      "https://www.googleapis.com/auth/analytics.readonly\n",
      "https://www.googleapis.com/auth/webmasters.readonly\n",
      "https://www.googleapis.com/auth/yt-analytics.readonly\n",
      "https://www.googleapis.com/auth/youtube.readonly\n",
      "\n"
     ]
    },
    {
     "ename": "TypeError",
     "evalue": "unsupported operand type(s) for /: 'str' and 'str'",
     "output_type": "error",
     "traceback": [
      "\u001b[1;31m---------------------------------------------------------------------------\u001b[0m",
      "\u001b[1;31mTypeError\u001b[0m                                 Traceback (most recent call last)",
      "\u001b[1;32m<ipython-input-4-9f294bcc550f>\u001b[0m in \u001b[0;36m<module>\u001b[1;34m\u001b[0m\n\u001b[1;32m----> 1\u001b[1;33m \u001b[0mcred\u001b[0m \u001b[1;33m=\u001b[0m \u001b[0mCredentials\u001b[0m\u001b[1;33m(\u001b[0m\u001b[1;33m)\u001b[0m\u001b[1;33m.\u001b[0m\u001b[0mget\u001b[0m\u001b[1;33m(\u001b[0m\u001b[1;33m)\u001b[0m\u001b[1;33m\u001b[0m\u001b[1;33m\u001b[0m\u001b[0m\n\u001b[0m",
      "\u001b[1;32m<ipython-input-3-4d35ae9cedd8>\u001b[0m in \u001b[0;36m__init__\u001b[1;34m(self, user, scopes)\u001b[0m\n\u001b[0;32m     46\u001b[0m         \u001b[1;32mif\u001b[0m \u001b[1;32mnot\u001b[0m \u001b[0mPath\u001b[0m\u001b[1;33m(\u001b[0m\u001b[0mcredentials_path\u001b[0m\u001b[1;33m)\u001b[0m\u001b[1;33m.\u001b[0m\u001b[0mexists\u001b[0m\u001b[1;33m(\u001b[0m\u001b[1;33m)\u001b[0m\u001b[1;33m:\u001b[0m\u001b[1;33m\u001b[0m\u001b[1;33m\u001b[0m\u001b[0m\n\u001b[0;32m     47\u001b[0m             \u001b[0mPath\u001b[0m\u001b[1;33m(\u001b[0m\u001b[0mcredentials_path\u001b[0m\u001b[1;33m)\u001b[0m\u001b[1;33m.\u001b[0m\u001b[0mmkdir\u001b[0m\u001b[1;33m(\u001b[0m\u001b[1;33m)\u001b[0m\u001b[1;33m\u001b[0m\u001b[1;33m\u001b[0m\u001b[0m\n\u001b[1;32m---> 48\u001b[1;33m         \u001b[0mcredentials_file\u001b[0m \u001b[1;33m=\u001b[0m \u001b[0mPath\u001b[0m\u001b[1;33m(\u001b[0m\u001b[0mcredentials_path\u001b[0m \u001b[1;33m/\u001b[0m \u001b[0muser\u001b[0m \u001b[1;33m+\u001b[0m \u001b[1;34m\".json\"\u001b[0m\u001b[1;33m)\u001b[0m\u001b[1;33m\u001b[0m\u001b[1;33m\u001b[0m\u001b[0m\n\u001b[0m\u001b[0;32m     49\u001b[0m         \u001b[1;32mif\u001b[0m \u001b[0mcredentials_file\u001b[0m\u001b[1;33m.\u001b[0m\u001b[0mis_file\u001b[0m\u001b[1;33m(\u001b[0m\u001b[1;33m)\u001b[0m\u001b[1;33m:\u001b[0m\u001b[1;33m\u001b[0m\u001b[1;33m\u001b[0m\u001b[0m\n\u001b[0;32m     50\u001b[0m             \u001b[0mcredentials_file\u001b[0m \u001b[1;33m=\u001b[0m \u001b[0mPath\u001b[0m\u001b[1;33m(\u001b[0m\u001b[1;34mf\"{user}.json\"\u001b[0m\u001b[1;33m)\u001b[0m\u001b[1;33m\u001b[0m\u001b[1;33m\u001b[0m\u001b[0m\n",
      "\u001b[1;31mTypeError\u001b[0m: unsupported operand type(s) for /: 'str' and 'str'"
     ]
    }
   ],
   "source": [
    "cred = Credentials().get()"
   ]
  },
  {
   "cell_type": "code",
   "execution_count": null,
   "metadata": {},
   "outputs": [],
   "source": [
    "service = build(\"oauth2\", \"v2\", credentials=cred)\n",
    "user_document = service.userinfo().get().execute()\n",
    "print(user_document[\"email\"])"
   ]
  },
  {
   "cell_type": "code",
   "execution_count": null,
   "metadata": {},
   "outputs": [],
   "source": [
    "# Retrieve list of Search Console sites\n",
    "gsc_service = build('webmasters', 'v3', credentials=cred)\n",
    "gsc_sites = gsc_service.sites().list().execute()\n",
    "[print(x['siteUrl']) for x in gsc_sites['siteEntry']];"
   ]
  },
  {
   "cell_type": "code",
   "execution_count": null,
   "metadata": {},
   "outputs": [],
   "source": [
    "# Retreive list of Google Analytics accounts\n",
    "ga_service = build('analytics', 'v3', credentials=cred)\n",
    "ga_accounts = ga_service.management().accounts().list().execute()\n",
    "[print((x['id'], x['name'])) for x in ga_accounts['items']];"
   ]
  }
 ],
 "metadata": {
  "kernelspec": {
   "display_name": "Python 3",
   "language": "python",
   "name": "python3"
  },
  "language_info": {
   "codemirror_mode": {
    "name": "ipython",
    "version": 3
   },
   "file_extension": ".py",
   "mimetype": "text/x-python",
   "name": "python",
   "nbconvert_exporter": "python",
   "pygments_lexer": "ipython3",
   "version": "3.8.8"
  }
 },
 "nbformat": 4,
 "nbformat_minor": 4
}
