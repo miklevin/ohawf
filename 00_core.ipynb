{
 "cells": [
  {
   "cell_type": "code",
   "execution_count": null,
   "metadata": {},
   "outputs": [],
   "source": [
    "# default_exp core"
   ]
  },
  {
   "cell_type": "markdown",
   "metadata": {},
   "source": [
    "# ohawf\n",
    "\n",
    "> "
   ]
  },
  {
   "cell_type": "code",
   "execution_count": null,
   "metadata": {},
   "outputs": [],
   "source": [
    "# hide\n",
    "from nbdev.showdoc import *"
   ]
  },
  {
   "cell_type": "markdown",
   "metadata": {},
   "source": [
    "# Requirements\n",
    "    pip install google-auth-oauthlib\n",
    "    pip install google-api-python-client"
   ]
  },
  {
   "cell_type": "code",
   "execution_count": null,
   "metadata": {},
   "outputs": [],
   "source": [
    "# export\n",
    "\"\"\"\n",
    "Google OAuth2 login module.\n",
    "\"\"\"\n",
    "import json\n",
    "import pickle\n",
    "from urllib.request import urlopen\n",
    "import google.auth.transport.requests\n",
    "from googleapiclient.discovery import build\n",
    "from google_auth_oauthlib.flow import InstalledAppFlow\n",
    "\n",
    "\n",
    "class OhAwf:\n",
    "    \"\"\"Login to Google services.\"\"\"\n",
    "\n",
    "    def __init__(self):\n",
    "        self.url = \"https://www.googleapis.com/oauth2/v1/tokeninfo?access_token=\"\n",
    "        self.scopes = [\"https://www.googleapis.com/auth/webmasters.readonly\"]\n",
    "        self.creds = None\n",
    "        with open(\"credentials.json\", \"rb\") as handle:\n",
    "            self.creds = json.load(handle)\n",
    "        self.run()\n",
    "\n",
    "    def login(self):\n",
    "        \"\"\"Start web-based Google OAuth2 login prompt.\"\"\"\n",
    "        flow = InstalledAppFlow.from_client_config(self.creds, self.scopes)\n",
    "        self.creds = flow.run_console()\n",
    "        with open(\"credentials.pkl\", \"wb\") as handle:\n",
    "            pickle.dump(self.creds, handle)\n",
    "        return self.creds\n",
    "\n",
    "    def refresh_token(self):\n",
    "        \"\"\"Refresh token to make new logins generally not required.\"\"\"\n",
    "        with open(\"credentials.pkl\", \"rb\") as handle:\n",
    "            self.creds = pickle.load(handle)\n",
    "        cred_url = self.url + self.creds.token\n",
    "        try:\n",
    "            cred_response = urlopen(cred_url)\n",
    "        except:\n",
    "            request = google.auth.transport.requests.Request()\n",
    "            self.creds.refresh(request)\n",
    "            with open(\"credentials.pkl\", \"wb\") as handle:\n",
    "                pickle.dump(self.creds, handle)\n",
    "        return self.creds\n",
    "    \n",
    "    def run(self):\n",
    "        try:\n",
    "            self.creds = self.refresh_token()\n",
    "        except:\n",
    "            self.creds = self.login()\n",
    "        return self.creds\n",
    "\n",
    "if __name__ == \"__main__\":\n",
    "    owauf = OhAwf()\n",
    "    credentials = owauf.run()\n",
    "    print(credentials)"
   ]
  }
 ],
 "metadata": {
  "kernelspec": {
   "display_name": "Python 3",
   "language": "python",
   "name": "python3"
  }
 },
 "nbformat": 4,
 "nbformat_minor": 4
}
