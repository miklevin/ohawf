{
 "cells": [
  {
   "cell_type": "code",
   "execution_count": null,
   "metadata": {},
   "outputs": [],
   "source": [
    "# default_exp core\n",
    "%load_ext lab_black"
   ]
  },
  {
   "cell_type": "markdown",
   "metadata": {},
   "source": [
    "# module name here\n",
    "\n",
    "> API details."
   ]
  },
  {
   "cell_type": "code",
   "execution_count": null,
   "metadata": {},
   "outputs": [],
   "source": [
    "# hide\n",
    "from nbdev.showdoc import *"
   ]
  },
  {
   "cell_type": "markdown",
   "metadata": {},
   "source": [
    "# Requirements\n",
    "    pip install google-auth-oauthlib\n",
    "    pip install google-api-python-client"
   ]
  },
  {
   "cell_type": "code",
   "execution_count": null,
   "metadata": {},
   "outputs": [],
   "source": [
    "import json\n",
    "import pickle\n",
    "from urllib.request import urlopen\n",
    "import google.auth.transport.requests\n",
    "from googleapiclient.discovery import build\n",
    "from google_auth_oauthlib.flow import InstalledAppFlow"
   ]
  },
  {
   "cell_type": "code",
   "execution_count": null,
   "metadata": {},
   "outputs": [],
   "source": [
    "class OhAwf:\n",
    "    \"\"\"Login to Google services.\"\"\"\n",
    "\n",
    "    def __init__(self):\n",
    "        self.url = \"https://www.googleapis.com/oauth2/v1/tokeninfo?access_token=\"\n",
    "        self.scopes = [\"https://www.googleapis.com/auth/webmasters.readonly\"]\n",
    "        self.creds = None\n",
    "        with open(\"credentials.json\", \"rb\") as handle:\n",
    "            self.creds = json.load(handle)\n",
    "        self.run()\n",
    "\n",
    "    def login(self):\n",
    "        flow = InstalledAppFlow.from_client_config(self.creds, self.scopes)\n",
    "        self.creds = flow.run_console()\n",
    "        with open(\"credentials.pkl\", \"wb\") as handle:\n",
    "            pickle.dump(self.creds, handle)\n",
    "        return self.creds\n",
    "\n",
    "    def refresh_token(self):\n",
    "        with open(\"credentials.pkl\", \"rb\") as handle:\n",
    "            self.creds = pickle.load(handle)\n",
    "        cred_url = self.url + self.creds.token\n",
    "        cred_response = urlopen(cred_url)\n",
    "        cred_bstring = cred_response.read()\n",
    "        cred_json = json.loads(cred_bstring.decode(\"utf-8\"))\n",
    "        if \"expires_in\" in cred_json and cred_json[\"expires_in\"] <= 0:\n",
    "            request = google.auth.transport.requests.Request()\n",
    "            self.creds.refresh(request)\n",
    "            with open(\"credentials.pkl\", \"wb\") as handle:\n",
    "                pickle.dump(self.creds, handle)\n",
    "        return self.creds\n",
    "\n",
    "    def run(self):\n",
    "        try:\n",
    "            self.creds = self.refresh_token()\n",
    "        except:\n",
    "            self.creds = self.login()\n",
    "        return self.creds"
   ]
  },
  {
   "cell_type": "code",
   "execution_count": null,
   "metadata": {},
   "outputs": [],
   "source": [
    "owauf = OhAwf()\n",
    "credentials = owauf.run()\n",
    "credentials"
   ]
  }
 ],
 "metadata": {
  "kernelspec": {
   "display_name": "Python 3",
   "language": "python",
   "name": "python3"
  }
 },
 "nbformat": 4,
 "nbformat_minor": 4
}
